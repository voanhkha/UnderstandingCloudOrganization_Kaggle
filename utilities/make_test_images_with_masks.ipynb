{
 "cells": [
  {
   "cell_type": "code",
   "execution_count": 1,
   "metadata": {},
   "outputs": [],
   "source": [
    "import numpy as np, pandas as pd, matplotlib.pyplot as plt, os\n",
    "import cv2\n",
    "%matplotlib inline\n",
    "\n",
    "INPUT_PATH = 'D:/cloud_kaggle_data/input'\n",
    "train = pd.read_csv(f'{INPUT_PATH}/train.csv') \n",
    "sub = pd.read_csv(f'{INPUT_PATH}/sample_submission.csv')\n",
    "palet = [(249, 192, 12), (0, 185, 241), (114, 0, 218), (249,50,12)]\n",
    "palet = [(0, 0, 255), (255, 0, 0), (200, 0, 200), (249,255,0)]\n",
    "from tqdm import tqdm_notebook as tqdm\n",
    "\n",
    "train['Image_Label'].apply(lambda x: x.split('_')[1]).value_counts()\n",
    "train.loc[train['EncodedPixels'].isnull() == False, 'Image_Label'].apply(lambda x: x.split('_')[1]).value_counts()\n",
    "train.loc[train['EncodedPixels'].isnull() == False, 'Image_Label'].apply(lambda x: x.split('_')[0]).value_counts().value_counts()\n",
    "train['label'] = train['Image_Label'].apply(lambda x: x.split('_')[1])\n",
    "train['im_id'] = train['Image_Label'].apply(lambda x: x.split('_')[0])\n",
    "sub['label'] = sub['Image_Label'].apply(lambda x: x.split('_')[1])\n",
    "sub['im_id'] = sub['Image_Label'].apply(lambda x: x.split('_')[0])"
   ]
  },
  {
   "cell_type": "code",
   "execution_count": null,
   "metadata": {},
   "outputs": [],
   "source": []
  },
  {
   "cell_type": "code",
   "execution_count": 13,
   "metadata": {},
   "outputs": [],
   "source": []
  },
  {
   "cell_type": "code",
   "execution_count": 2,
   "metadata": {},
   "outputs": [],
   "source": [
    "def get_img(x, folder: str='train_images'):\n",
    "    data_folder = f\"{INPUT_PATH}/{folder}\"\n",
    "    image_path = os.path.join(data_folder, x)\n",
    "    img = cv2.imread(image_path)\n",
    "    img = cv2.cvtColor(img, cv2.COLOR_BGR2RGB)\n",
    "    return img\n",
    "\n",
    "def rle_decode(mask_rle: str = '', shape: tuple = (1400, 2100)):\n",
    "    s = mask_rle.split()\n",
    "    starts, lengths = [np.asarray(x, dtype=int) for x in (s[0:][::2], s[1:][::2])]\n",
    "    starts -= 1\n",
    "    ends = starts + lengths\n",
    "    img = np.zeros(shape[0] * shape[1], dtype=np.uint8)\n",
    "    for lo, hi in zip(starts, ends):\n",
    "        img[lo:hi] = 1\n",
    "    return img.reshape(shape, order='F')\n",
    "\n",
    "\n",
    "def make_mask(df: pd.DataFrame, image_name: str='img.jpg', shape: tuple = (1400, 2100)):\n",
    "    encoded_masks = df.loc[df['im_id'] == image_name, 'EncodedPixels']\n",
    "    masks = np.zeros((shape[0], shape[1], 4), dtype=np.float32)\n",
    "    for idx, label in enumerate(encoded_masks.values):\n",
    "        if label is not np.nan:\n",
    "            mask = rle_decode(label, shape=shape)\n",
    "            masks[:, :, idx] = mask\n",
    "    return masks\n",
    "\n",
    "\n",
    "def visualize_train(image_name, oof_df=None, params={'thres': [40, 40, 40, 50], 'minsize': [5000, 5000, 5000, 5000]}, savefolder=None, show=True):\n",
    "    image = get_img(image_name)\n",
    "    image =  cv2.resize(image, dsize=(525,350), interpolation=cv2.INTER_LINEAR)\n",
    "    mask = make_mask(train, image_name)\n",
    "    mask = cv2.resize(mask, dsize=(525,350), interpolation=cv2.INTER_LINEAR)\n",
    "    class_dict = {0: 'Fish', 1: 'Flower', 2: 'Gravel', 3: 'Sugar'}\n",
    "    fig, ax = plt.subplots(figsize=(12, 12))\n",
    "    for ch in range(4):\n",
    "        # Draw ground truth masks\n",
    "        m2 = np.copy(mask[:,:,ch]).astype(np.uint8)\n",
    "        contours, _ = cv2.findContours(m2, cv2.RETR_LIST, cv2.CHAIN_APPROX_NONE)\n",
    "        for i in range(0, len(contours)):\n",
    "            cv2.polylines(image, contours[i], True, palet[ch], thickness=2, lineType=1)\n",
    "        \n",
    "        if oof_df is not None:\n",
    "            col = 'rle_'+str(params['thres'][ch])+'_'+str(params['minsize'][ch])\n",
    "            rle = oof_df.loc[oof_df.im_id==image_name, col].iloc[ch]\n",
    "            if rle is np.nan: continue\n",
    "            m2 = rle_decode(rle, (350, 525)).astype(np.uint8)\n",
    "            contours, _ = cv2.findContours(m2, cv2.RETR_LIST, cv2.CHAIN_APPROX_NONE)\n",
    "            for i in range(0, len(contours)):\n",
    "                cv2.polylines(image, contours[i], True, palet[ch], thickness=1, lineType=4)\n",
    "    \n",
    "    if show:\n",
    "        ax.imshow(image)\n",
    "        #plt.show()\n",
    "                \n",
    "    if savefolder is not None: plt.savefig(savefolder+image_name+'.jpg', bbox_inches='tight')\n",
    "    plt.close(fig)"
   ]
  },
  {
   "cell_type": "code",
   "execution_count": null,
   "metadata": {},
   "outputs": [],
   "source": []
  },
  {
   "cell_type": "code",
   "execution_count": 3,
   "metadata": {},
   "outputs": [],
   "source": [
    "stats = pd.read_csv('D:/cloud_kaggle_data/preds_cloud/ures/stats.csv')"
   ]
  },
  {
   "cell_type": "code",
   "execution_count": 99,
   "metadata": {},
   "outputs": [],
   "source": []
  },
  {
   "cell_type": "code",
   "execution_count": 4,
   "metadata": {},
   "outputs": [
    {
     "data": {
      "application/vnd.jupyter.widget-view+json": {
       "model_id": "a9cba3ad875e4eb09b1ccff76655a541",
       "version_major": 2,
       "version_minor": 0
      },
      "text/plain": [
       "HBox(children=(IntProgress(value=0, max=5546), HTML(value='')))"
      ]
     },
     "metadata": {},
     "output_type": "display_data"
    },
    {
     "name": "stdout",
     "output_type": "stream",
     "text": [
      "\n"
     ]
    }
   ],
   "source": [
    "params = {'thres': [40, 40, 40, 40], 'minsize': [5000, 5000, 5000, 5000]}\n",
    "for img_name in tqdm(stats.iloc[::4]['im_id']):\n",
    "    visualize_train(img_name, oof_df=stats, params=params, savefolder='D:/cloud_kaggle_data/img_oof/ures_40_5k/', show=False)"
   ]
  },
  {
   "cell_type": "code",
   "execution_count": null,
   "metadata": {},
   "outputs": [],
   "source": []
  },
  {
   "cell_type": "code",
   "execution_count": null,
   "metadata": {},
   "outputs": [],
   "source": []
  },
  {
   "cell_type": "code",
   "execution_count": 7,
   "metadata": {},
   "outputs": [],
   "source": []
  },
  {
   "cell_type": "code",
   "execution_count": null,
   "metadata": {},
   "outputs": [],
   "source": []
  },
  {
   "cell_type": "code",
   "execution_count": null,
   "metadata": {},
   "outputs": [],
   "source": []
  },
  {
   "cell_type": "code",
   "execution_count": 11,
   "metadata": {},
   "outputs": [],
   "source": []
  },
  {
   "cell_type": "code",
   "execution_count": null,
   "metadata": {},
   "outputs": [],
   "source": []
  }
 ],
 "metadata": {
  "kernelspec": {
   "display_name": "Python 3",
   "language": "python",
   "name": "python3"
  },
  "language_info": {
   "codemirror_mode": {
    "name": "ipython",
    "version": 3
   },
   "file_extension": ".py",
   "mimetype": "text/x-python",
   "name": "python",
   "nbconvert_exporter": "python",
   "pygments_lexer": "ipython3",
   "version": "3.7.4"
  }
 },
 "nbformat": 4,
 "nbformat_minor": 2
}
