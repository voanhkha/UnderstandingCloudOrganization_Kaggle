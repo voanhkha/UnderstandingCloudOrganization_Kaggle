{
 "cells": [
  {
   "cell_type": "code",
   "execution_count": 2,
   "metadata": {},
   "outputs": [],
   "source": [
    "import numpy as np, pandas as pd\n",
    "from cloud_kaggle_lib import *\n",
    "from IPython.display import clear_output\n",
    "from tqdm import tqdm_notebook\n",
    "PATH = '/Users/voanhkha/Desktop/understanding_cloud_organization/'\n",
    "from tqdm import tqdm_notebook as tqdm\n",
    "train_df = pd.read_csv(PATH+'train.csv')\n",
    "sub_df = pd.read_csv(PATH+'sample_submission.csv')\n",
    "train_df['im_id'] = train_df['Image_Label'].apply(lambda x: x.split('_')[0])\n",
    "sub_df['im_id'] = sub_df['Image_Label'].apply(lambda x: x.split('_')[0])\n",
    "ori_names = train_df.iloc[::4]['im_id'].values\n",
    "import matplotlib.pyplot as plt\n",
    "%matplotlib inline\n",
    "from sklearn.metrics import precision_recall_curve, auc"
   ]
  },
  {
   "cell_type": "code",
   "execution_count": null,
   "metadata": {},
   "outputs": [],
   "source": []
  },
  {
   "cell_type": "code",
   "execution_count": null,
   "metadata": {},
   "outputs": [],
   "source": []
  },
  {
   "cell_type": "code",
   "execution_count": 8,
   "metadata": {},
   "outputs": [],
   "source": [
    "# Simply load single model oof and pred\n",
    "MODELPATH = '/Users/voanhkha/Desktop/preds_cloud/finalblend0/'\n",
    "oof_name = np.load(MODELPATH + 'names.npy', allow_pickle=True)\n",
    "oof_pred = np.load(MODELPATH + 'oof.npy')\n",
    "test_pred = np.load(MODELPATH + 'test.npy')"
   ]
  },
  {
   "cell_type": "code",
   "execution_count": null,
   "metadata": {},
   "outputs": [],
   "source": []
  },
  {
   "cell_type": "code",
   "execution_count": null,
   "metadata": {},
   "outputs": [],
   "source": [
    "# Postprocess with triplets\n",
    "# Remember: /100 or not\n",
    "\n",
    "for k in range(0,4):\n",
    "    print('k =', k)\n",
    "\n",
    "    #k = 0 # layer CLOUDTYPES = ['Fish', 'Flower', 'Gravel', 'Sugar']\n",
    "    gt_all = np.load('/Users/voanhkha/Desktop/understanding_cloud_organization/gt_' +str(k)+ '.npy')\n",
    "    if k==2: correct_k = 3\n",
    "    elif k==3: correct_k = 2\n",
    "    else: correct_k = k   \n",
    "        \n",
    "    all_layers = np.zeros((5546, 350, 525))\n",
    "    for j, (img_name, pred) in tqdm_notebook(enumerate(zip(oof_name, oof_pred))):\n",
    "        pred = pred / 100\n",
    "        im_layer = pred[:,:,k]\n",
    "        all_layers[j] = im_layer\n",
    "        \n",
    "    # Second: search for params\n",
    "    best = [0,0,0,0]\n",
    "    for threshold in [.6, .65, .85, .8, .7, .75]:\n",
    "        for minsize in [12500, 5000, 7500, 0, 2500, 10000]:\n",
    "    \n",
    "            for bottom_threshold in [.3, .35 , .4, .45]:\n",
    "        \n",
    "                score = 0\n",
    "                for j, (img_name, pred) in enumerate(zip(oof_name, oof_pred)):\n",
    "                    im_layer = all_layers[j]\n",
    "                    gt_layer = gt_all[ori_names==img_name]\n",
    "                    \n",
    "                    ## Adaptive param\n",
    "                    clf_prob = clf_oof[clf_names==img_name][0][correct_k]\n",
    "                    adaptive_ms = minsize - (clf_prob - 0.5)*0\n",
    "#                     adaptive_thres = threshold - (clf_prob - 0.5)*0\n",
    "                    \n",
    "                    adaptive_thres = threshold + 0.05 if clf_prob < 0.2 else threshold\n",
    "                     \n",
    "\n",
    "                    ##   \n",
    "                    \n",
    "                    pred_thres = cv2.threshold(im_layer, adaptive_thres, 1, cv2.THRESH_BINARY)[1]\n",
    "                    \n",
    "                    #### Draw convex\n",
    "                    pred_thres = draw_convex_hull(pred_thres.astype(np.uint8))\n",
    "                    ####\n",
    "                    \n",
    "                    num_component, component = cv2.connectedComponents(pred_thres.astype(np.uint8))\n",
    "                    pred_mask = np.zeros((350, 525), np.uint8) \n",
    "                    \n",
    "                    for c in range(1, num_component):\n",
    "                        p = (component == c)\n",
    "                        if p.sum() > adaptive_ms: pred_mask[p] = 1\n",
    "                    \n",
    "                ### Triplet section ###\n",
    "                    if pred_mask.sum() > 0: pred_mask = cv2.threshold(im_layer, bottom_threshold, 1, cv2.THRESH_BINARY)[1]  \n",
    "                ############################    \n",
    "                    \n",
    "                    score += dice(pred_mask, gt_layer)    \n",
    "                        \n",
    "                score = score / (len(oof_name))\n",
    "                print(threshold, minsize, np.round(bottom_threshold,2) , np.round(score,5))\n",
    "                if best[-1] < score: best = [threshold, minsize, bottom_threshold, score]\n",
    "                    \n",
    "    print('Best:', best)"
   ]
  },
  {
   "cell_type": "code",
   "execution_count": null,
   "metadata": {},
   "outputs": [],
   "source": []
  },
  {
   "cell_type": "code",
   "execution_count": null,
   "metadata": {},
   "outputs": [],
   "source": []
  },
  {
   "cell_type": "code",
   "execution_count": null,
   "metadata": {},
   "outputs": [],
   "source": []
  },
  {
   "cell_type": "code",
   "execution_count": 27,
   "metadata": {},
   "outputs": [
    {
     "data": {
      "application/vnd.jupyter.widget-view+json": {
       "model_id": "a15bc5099141424781c4c8b4a0b8d0da",
       "version_major": 2,
       "version_minor": 0
      },
      "text/plain": [
       "HBox(children=(IntProgress(value=0, max=3698), HTML(value='')))"
      ]
     },
     "metadata": {},
     "output_type": "display_data"
    },
    {
     "name": "stdout",
     "output_type": "stream",
     "text": [
      "\n"
     ]
    }
   ],
   "source": [
    "# Make test prediction (triplet)\n",
    "## REMEMBER: /100\n",
    "\n",
    "LAYERS = [0, 1, 2, 3]\n",
    "postprocess_params = {'thres': [70, 70, 70, 70], \n",
    "                      'minsize': [5000, 5000,5000, 5000], \n",
    "                      'lowerthres':[40,40,40,40]}\n",
    "encoded_pixels = []\n",
    "for img in tqdm(test_pred):\n",
    "    img = img/100\n",
    "    for k in LAYERS:\n",
    "        ### REMEMBER TO CHANGE BELOW LINE \n",
    "        im_layer = img[:,:,k] # or img[j]\n",
    "\n",
    "        thres, minsize, lowerthres = postprocess_params['thres'][k], postprocess_params['minsize'][k], postprocess_params['lowerthres'][k]\n",
    "        \n",
    "        pred_thres = cv2.threshold(im_layer, thres/100, 1, cv2.THRESH_BINARY)[1]\n",
    "        num_component, component = cv2.connectedComponents(pred_thres.astype(np.uint8))\n",
    "        pred_mask = np.zeros((350, 525), np.uint8) \n",
    "        for c in range(1, num_component):\n",
    "            p = (component == c)\n",
    "            if p.sum() > minsize: pred_mask[p] = 1\n",
    "\n",
    "    ### Triplet section ###\n",
    "        if pred_mask.sum() > 0: pred_mask = cv2.threshold(im_layer, lowerthres/100, 1, cv2.THRESH_BINARY)[1] \n",
    "            \n",
    "\n",
    "        encoded_pixels.append(mask2rle(pred_mask))"
   ]
  },
  {
   "cell_type": "code",
   "execution_count": null,
   "metadata": {},
   "outputs": [],
   "source": []
  },
  {
   "cell_type": "code",
   "execution_count": 28,
   "metadata": {},
   "outputs": [
    {
     "data": {
      "text/html": [
       "<div>\n",
       "<style scoped>\n",
       "    .dataframe tbody tr th:only-of-type {\n",
       "        vertical-align: middle;\n",
       "    }\n",
       "\n",
       "    .dataframe tbody tr th {\n",
       "        vertical-align: top;\n",
       "    }\n",
       "\n",
       "    .dataframe thead th {\n",
       "        text-align: right;\n",
       "    }\n",
       "</style>\n",
       "<table border=\"1\" class=\"dataframe\">\n",
       "  <thead>\n",
       "    <tr style=\"text-align: right;\">\n",
       "      <th></th>\n",
       "      <th>Image_Label</th>\n",
       "      <th>EncodedPixels</th>\n",
       "    </tr>\n",
       "  </thead>\n",
       "  <tbody>\n",
       "    <tr>\n",
       "      <th>0</th>\n",
       "      <td>002f507.jpg_Fish</td>\n",
       "      <td></td>\n",
       "    </tr>\n",
       "    <tr>\n",
       "      <th>1</th>\n",
       "      <td>002f507.jpg_Flower</td>\n",
       "      <td></td>\n",
       "    </tr>\n",
       "    <tr>\n",
       "      <th>2</th>\n",
       "      <td>002f507.jpg_Gravel</td>\n",
       "      <td>3 334 351 67187 67540 347 67891 346 68242 345 ...</td>\n",
       "    </tr>\n",
       "    <tr>\n",
       "      <th>3</th>\n",
       "      <td>002f507.jpg_Sugar</td>\n",
       "      <td></td>\n",
       "    </tr>\n",
       "    <tr>\n",
       "      <th>4</th>\n",
       "      <td>0035ae9.jpg_Fish</td>\n",
       "      <td></td>\n",
       "    </tr>\n",
       "  </tbody>\n",
       "</table>\n",
       "</div>"
      ],
      "text/plain": [
       "          Image_Label                                      EncodedPixels\n",
       "0    002f507.jpg_Fish                                                   \n",
       "1  002f507.jpg_Flower                                                   \n",
       "2  002f507.jpg_Gravel  3 334 351 67187 67540 347 67891 346 68242 345 ...\n",
       "3   002f507.jpg_Sugar                                                   \n",
       "4    0035ae9.jpg_Fish                                                   "
      ]
     },
     "execution_count": 28,
     "metadata": {},
     "output_type": "execute_result"
    }
   ],
   "source": [
    "sub = pd.read_csv(PATH+'sample_submission.csv')\n",
    "sub['EncodedPixels'] = encoded_pixels\n",
    "#sub[['Image_Label', 'EncodedPixels']].to_csv('/Users/voanhkha/Desktop/B0_80.gz', index=None, compression='gzip')\n",
    "sub.head()"
   ]
  },
  {
   "cell_type": "code",
   "execution_count": null,
   "metadata": {},
   "outputs": [],
   "source": []
  },
  {
   "cell_type": "code",
   "execution_count": null,
   "metadata": {},
   "outputs": [],
   "source": []
  }
 ],
 "metadata": {
  "kernelspec": {
   "display_name": "Python 3",
   "language": "python",
   "name": "python3"
  },
  "language_info": {
   "codemirror_mode": {
    "name": "ipython",
    "version": 3
   },
   "file_extension": ".py",
   "mimetype": "text/x-python",
   "name": "python",
   "nbconvert_exporter": "python",
   "pygments_lexer": "ipython3",
   "version": "3.6.4"
  }
 },
 "nbformat": 4,
 "nbformat_minor": 2
}
